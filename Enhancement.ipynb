import os
from PIL import Image, ImageFilter, ImageOps
import numpy as np

from google.colab import drive
drive.mount('/content/drive')

def enhance_images(dataset_path, output_path, target_size=(256, 256), shadow_intensity=0.5):
    if not os.path.exists(output_path):
        os.makedirs(output_path)
    for main_class in os.listdir(dataset_path):
        main_class_path = os.path.join(dataset_path, main_class)
        if os.path.isdir(main_class_path):
            for subclass in os.listdir(main_class_path):
                subclass_path = os.path.join(main_class_path, subclass)
                if os.path.isdir(subclass_path):
                    output_class_path = os.path.join(output_path, main_class, subclass)
                    os.makedirs(output_class_path, exist_ok=True)
                    for image_file in os.listdir(subclass_path):
                        image_path = os.path.join(subclass_path, image_file)
                        output_image_path = os.path.join(output_class_path, image_file)
                        try:
                            img = Image.open(image_path)
                            # Resize the image
                            img = img.resize(target_size)
                            
                            # Noise reduction
                            img_blur = img.filter(ImageFilter.GaussianBlur(radius=2))

                            # Histogram equalization
                            img = ImageOps.equalize(img)
                            
                            # Convert to numpy array and normalize
                            img_array = np.array(img)
                            img_array = img_array / 255.0
                            
                            # Convert back to PIL image
                            img_normalized = Image.fromarray((img_array * 255).astype(np.uint8))

                            # Decrease color intensity of darker areas
                            img_array = np.array(img)
                            shadow_mask = img_array < (shadow_intensity * 255)
                            img_array[shadow_mask] = (img_array[shadow_mask] * shadow_intensity).astype(np.uint8)
                            img = Image.fromarray(img_array)
                            
                            # Save the enhanced image
                            img_normalized.save(output_image_path)
                        except Exception as e:
                            print(f"Error processing {image_path}: {e}")

# Example usage
dataset_path = "/content/drive/MyDrive/PLD_3_Classes_256"
output_path = "/content/drive/MyDrive/Dataset"
enhance_images(dataset_path, output_path)
